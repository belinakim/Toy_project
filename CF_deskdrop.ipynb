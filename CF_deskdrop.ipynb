{
 "cells": [
  {
   "cell_type": "markdown",
   "metadata": {
    "id": "AxyCneBv9vbi"
   },
   "source": [
    "# Colloborative filtering modeling with Implicit library"
   ]
  },
  {
   "cell_type": "markdown",
   "metadata": {
    "id": "D8JH_fwn9r1R"
   },
   "source": [
    "reference: https://towardsdatascience.com/building-a-collaborative-filtering-recommender-system-with-clickstream-data-dffc86c8c65"
   ]
  },
  {
   "cell_type": "code",
   "execution_count": 2,
   "metadata": {
    "colab": {
     "base_uri": "https://localhost:8080/"
    },
    "id": "8TMBq8697x2A",
    "outputId": "ac8013df-69fc-4a06-f40f-2ebf02386269"
   },
   "outputs": [
    {
     "name": "stdout",
     "output_type": "stream",
     "text": [
      "Collecting implicit==0.4.4\n",
      "  Downloading implicit-0.4.4.tar.gz (1.1 MB)\n",
      "\u001b[?25l\r",
      "\u001b[K     |▎                               | 10 kB 23.4 MB/s eta 0:00:01\r",
      "\u001b[K     |▋                               | 20 kB 28.8 MB/s eta 0:00:01\r",
      "\u001b[K     |▉                               | 30 kB 26.0 MB/s eta 0:00:01\r",
      "\u001b[K     |█▏                              | 40 kB 19.6 MB/s eta 0:00:01\r",
      "\u001b[K     |█▌                              | 51 kB 15.5 MB/s eta 0:00:01\r",
      "\u001b[K     |█▊                              | 61 kB 11.3 MB/s eta 0:00:01\r",
      "\u001b[K     |██                              | 71 kB 12.4 MB/s eta 0:00:01\r",
      "\u001b[K     |██▍                             | 81 kB 13.4 MB/s eta 0:00:01\r",
      "\u001b[K     |██▋                             | 92 kB 14.3 MB/s eta 0:00:01\r",
      "\u001b[K     |███                             | 102 kB 13.4 MB/s eta 0:00:01\r",
      "\u001b[K     |███▎                            | 112 kB 13.4 MB/s eta 0:00:01\r",
      "\u001b[K     |███▌                            | 122 kB 13.4 MB/s eta 0:00:01\r",
      "\u001b[K     |███▉                            | 133 kB 13.4 MB/s eta 0:00:01\r",
      "\u001b[K     |████▏                           | 143 kB 13.4 MB/s eta 0:00:01\r",
      "\u001b[K     |████▍                           | 153 kB 13.4 MB/s eta 0:00:01\r",
      "\u001b[K     |████▊                           | 163 kB 13.4 MB/s eta 0:00:01\r",
      "\u001b[K     |█████                           | 174 kB 13.4 MB/s eta 0:00:01\r",
      "\u001b[K     |█████▎                          | 184 kB 13.4 MB/s eta 0:00:01\r",
      "\u001b[K     |█████▋                          | 194 kB 13.4 MB/s eta 0:00:01\r",
      "\u001b[K     |██████                          | 204 kB 13.4 MB/s eta 0:00:01\r",
      "\u001b[K     |██████▏                         | 215 kB 13.4 MB/s eta 0:00:01\r",
      "\u001b[K     |██████▌                         | 225 kB 13.4 MB/s eta 0:00:01\r",
      "\u001b[K     |██████▉                         | 235 kB 13.4 MB/s eta 0:00:01\r",
      "\u001b[K     |███████                         | 245 kB 13.4 MB/s eta 0:00:01\r",
      "\u001b[K     |███████▍                        | 256 kB 13.4 MB/s eta 0:00:01\r",
      "\u001b[K     |███████▊                        | 266 kB 13.4 MB/s eta 0:00:01\r",
      "\u001b[K     |████████                        | 276 kB 13.4 MB/s eta 0:00:01\r",
      "\u001b[K     |████████▎                       | 286 kB 13.4 MB/s eta 0:00:01\r",
      "\u001b[K     |████████▋                       | 296 kB 13.4 MB/s eta 0:00:01\r",
      "\u001b[K     |████████▉                       | 307 kB 13.4 MB/s eta 0:00:01\r",
      "\u001b[K     |█████████▏                      | 317 kB 13.4 MB/s eta 0:00:01\r",
      "\u001b[K     |█████████▌                      | 327 kB 13.4 MB/s eta 0:00:01\r",
      "\u001b[K     |█████████▊                      | 337 kB 13.4 MB/s eta 0:00:01\r",
      "\u001b[K     |██████████                      | 348 kB 13.4 MB/s eta 0:00:01\r",
      "\u001b[K     |██████████▍                     | 358 kB 13.4 MB/s eta 0:00:01\r",
      "\u001b[K     |██████████▋                     | 368 kB 13.4 MB/s eta 0:00:01\r",
      "\u001b[K     |███████████                     | 378 kB 13.4 MB/s eta 0:00:01\r",
      "\u001b[K     |███████████▏                    | 389 kB 13.4 MB/s eta 0:00:01\r",
      "\u001b[K     |███████████▌                    | 399 kB 13.4 MB/s eta 0:00:01\r",
      "\u001b[K     |███████████▉                    | 409 kB 13.4 MB/s eta 0:00:01\r",
      "\u001b[K     |████████████                    | 419 kB 13.4 MB/s eta 0:00:01\r",
      "\u001b[K     |████████████▍                   | 430 kB 13.4 MB/s eta 0:00:01\r",
      "\u001b[K     |████████████▊                   | 440 kB 13.4 MB/s eta 0:00:01\r",
      "\u001b[K     |█████████████                   | 450 kB 13.4 MB/s eta 0:00:01\r",
      "\u001b[K     |█████████████▎                  | 460 kB 13.4 MB/s eta 0:00:01\r",
      "\u001b[K     |█████████████▋                  | 471 kB 13.4 MB/s eta 0:00:01\r",
      "\u001b[K     |█████████████▉                  | 481 kB 13.4 MB/s eta 0:00:01\r",
      "\u001b[K     |██████████████▏                 | 491 kB 13.4 MB/s eta 0:00:01\r",
      "\u001b[K     |██████████████▌                 | 501 kB 13.4 MB/s eta 0:00:01\r",
      "\u001b[K     |██████████████▊                 | 512 kB 13.4 MB/s eta 0:00:01\r",
      "\u001b[K     |███████████████                 | 522 kB 13.4 MB/s eta 0:00:01\r",
      "\u001b[K     |███████████████▍                | 532 kB 13.4 MB/s eta 0:00:01\r",
      "\u001b[K     |███████████████▋                | 542 kB 13.4 MB/s eta 0:00:01\r",
      "\u001b[K     |████████████████                | 552 kB 13.4 MB/s eta 0:00:01\r",
      "\u001b[K     |████████████████▎               | 563 kB 13.4 MB/s eta 0:00:01\r",
      "\u001b[K     |████████████████▌               | 573 kB 13.4 MB/s eta 0:00:01\r",
      "\u001b[K     |████████████████▉               | 583 kB 13.4 MB/s eta 0:00:01\r",
      "\u001b[K     |█████████████████▏              | 593 kB 13.4 MB/s eta 0:00:01\r",
      "\u001b[K     |█████████████████▍              | 604 kB 13.4 MB/s eta 0:00:01\r",
      "\u001b[K     |█████████████████▊              | 614 kB 13.4 MB/s eta 0:00:01\r",
      "\u001b[K     |██████████████████              | 624 kB 13.4 MB/s eta 0:00:01\r",
      "\u001b[K     |██████████████████▎             | 634 kB 13.4 MB/s eta 0:00:01\r",
      "\u001b[K     |██████████████████▋             | 645 kB 13.4 MB/s eta 0:00:01\r",
      "\u001b[K     |███████████████████             | 655 kB 13.4 MB/s eta 0:00:01\r",
      "\u001b[K     |███████████████████▏            | 665 kB 13.4 MB/s eta 0:00:01\r",
      "\u001b[K     |███████████████████▌            | 675 kB 13.4 MB/s eta 0:00:01\r",
      "\u001b[K     |███████████████████▉            | 686 kB 13.4 MB/s eta 0:00:01\r",
      "\u001b[K     |████████████████████            | 696 kB 13.4 MB/s eta 0:00:01\r",
      "\u001b[K     |████████████████████▍           | 706 kB 13.4 MB/s eta 0:00:01\r",
      "\u001b[K     |████████████████████▊           | 716 kB 13.4 MB/s eta 0:00:01\r",
      "\u001b[K     |█████████████████████           | 727 kB 13.4 MB/s eta 0:00:01\r",
      "\u001b[K     |█████████████████████▎          | 737 kB 13.4 MB/s eta 0:00:01\r",
      "\u001b[K     |█████████████████████▋          | 747 kB 13.4 MB/s eta 0:00:01\r",
      "\u001b[K     |█████████████████████▉          | 757 kB 13.4 MB/s eta 0:00:01\r",
      "\u001b[K     |██████████████████████▏         | 768 kB 13.4 MB/s eta 0:00:01\r",
      "\u001b[K     |██████████████████████▍         | 778 kB 13.4 MB/s eta 0:00:01\r",
      "\u001b[K     |██████████████████████▊         | 788 kB 13.4 MB/s eta 0:00:01\r",
      "\u001b[K     |███████████████████████         | 798 kB 13.4 MB/s eta 0:00:01\r",
      "\u001b[K     |███████████████████████▎        | 808 kB 13.4 MB/s eta 0:00:01\r",
      "\u001b[K     |███████████████████████▋        | 819 kB 13.4 MB/s eta 0:00:01\r",
      "\u001b[K     |████████████████████████        | 829 kB 13.4 MB/s eta 0:00:01\r",
      "\u001b[K     |████████████████████████▏       | 839 kB 13.4 MB/s eta 0:00:01\r",
      "\u001b[K     |████████████████████████▌       | 849 kB 13.4 MB/s eta 0:00:01\r",
      "\u001b[K     |████████████████████████▉       | 860 kB 13.4 MB/s eta 0:00:01\r",
      "\u001b[K     |█████████████████████████       | 870 kB 13.4 MB/s eta 0:00:01\r",
      "\u001b[K     |█████████████████████████▍      | 880 kB 13.4 MB/s eta 0:00:01\r",
      "\u001b[K     |█████████████████████████▊      | 890 kB 13.4 MB/s eta 0:00:01\r",
      "\u001b[K     |██████████████████████████      | 901 kB 13.4 MB/s eta 0:00:01\r",
      "\u001b[K     |██████████████████████████▎     | 911 kB 13.4 MB/s eta 0:00:01\r",
      "\u001b[K     |██████████████████████████▋     | 921 kB 13.4 MB/s eta 0:00:01\r",
      "\u001b[K     |██████████████████████████▉     | 931 kB 13.4 MB/s eta 0:00:01\r",
      "\u001b[K     |███████████████████████████▏    | 942 kB 13.4 MB/s eta 0:00:01\r",
      "\u001b[K     |███████████████████████████▌    | 952 kB 13.4 MB/s eta 0:00:01\r",
      "\u001b[K     |███████████████████████████▊    | 962 kB 13.4 MB/s eta 0:00:01\r",
      "\u001b[K     |████████████████████████████    | 972 kB 13.4 MB/s eta 0:00:01\r",
      "\u001b[K     |████████████████████████████▍   | 983 kB 13.4 MB/s eta 0:00:01\r",
      "\u001b[K     |████████████████████████████▋   | 993 kB 13.4 MB/s eta 0:00:01\r",
      "\u001b[K     |█████████████████████████████   | 1.0 MB 13.4 MB/s eta 0:00:01\r",
      "\u001b[K     |█████████████████████████████▎  | 1.0 MB 13.4 MB/s eta 0:00:01\r",
      "\u001b[K     |█████████████████████████████▌  | 1.0 MB 13.4 MB/s eta 0:00:01\r",
      "\u001b[K     |█████████████████████████████▉  | 1.0 MB 13.4 MB/s eta 0:00:01\r",
      "\u001b[K     |██████████████████████████████▏ | 1.0 MB 13.4 MB/s eta 0:00:01\r",
      "\u001b[K     |██████████████████████████████▍ | 1.1 MB 13.4 MB/s eta 0:00:01\r",
      "\u001b[K     |██████████████████████████████▊ | 1.1 MB 13.4 MB/s eta 0:00:01\r",
      "\u001b[K     |███████████████████████████████ | 1.1 MB 13.4 MB/s eta 0:00:01\r",
      "\u001b[K     |███████████████████████████████▎| 1.1 MB 13.4 MB/s eta 0:00:01\r",
      "\u001b[K     |███████████████████████████████▋| 1.1 MB 13.4 MB/s eta 0:00:01\r",
      "\u001b[K     |████████████████████████████████| 1.1 MB 13.4 MB/s eta 0:00:01\r",
      "\u001b[K     |████████████████████████████████| 1.1 MB 13.4 MB/s \n",
      "\u001b[?25hRequirement already satisfied: numpy in /usr/local/lib/python3.7/dist-packages (from implicit==0.4.4) (1.19.5)\n",
      "Requirement already satisfied: scipy>=0.16 in /usr/local/lib/python3.7/dist-packages (from implicit==0.4.4) (1.4.1)\n",
      "Requirement already satisfied: tqdm>=4.27 in /usr/local/lib/python3.7/dist-packages (from implicit==0.4.4) (4.62.3)\n",
      "Building wheels for collected packages: implicit\n",
      "  Building wheel for implicit (setup.py) ... \u001b[?25l\u001b[?25hdone\n",
      "  Created wheel for implicit: filename=implicit-0.4.4-cp37-cp37m-linux_x86_64.whl size=3415670 sha256=6db729c854789c36054919572e1f2e9cfbd78ef2123000855a9b5b3190068450\n",
      "  Stored in directory: /root/.cache/pip/wheels/44/7e/7d/a17324ea207cfbe76aca878b5b8ca0aa932cf55d163329be37\n",
      "Successfully built implicit\n",
      "Installing collected packages: implicit\n",
      "Successfully installed implicit-0.4.4\n"
     ]
    }
   ],
   "source": [
    "!pip install implicit==0.4.4"
   ]
  },
  {
   "cell_type": "code",
   "execution_count": 3,
   "metadata": {
    "id": "xyA4hMOi9O3q"
   },
   "outputs": [],
   "source": [
    "import pandas as pd\n",
    "import numpy as np\n",
    "import implicit\n",
    "import scipy.sparse as sparse"
   ]
  },
  {
   "cell_type": "code",
   "execution_count": 4,
   "metadata": {
    "colab": {
     "base_uri": "https://localhost:8080/",
     "height": 660
    },
    "id": "_i_860F39nKS",
    "outputId": "fb1442ac-8343-4c4f-881a-f7045ab4716a"
   },
   "outputs": [
    {
     "data": {
      "text/html": [
       "<div>\n",
       "<style scoped>\n",
       "    .dataframe tbody tr th:only-of-type {\n",
       "        vertical-align: middle;\n",
       "    }\n",
       "\n",
       "    .dataframe tbody tr th {\n",
       "        vertical-align: top;\n",
       "    }\n",
       "\n",
       "    .dataframe thead th {\n",
       "        text-align: right;\n",
       "    }\n",
       "</style>\n",
       "<table border=\"1\" class=\"dataframe\">\n",
       "  <thead>\n",
       "    <tr style=\"text-align: right;\">\n",
       "      <th></th>\n",
       "      <th>timestamp</th>\n",
       "      <th>eventType</th>\n",
       "      <th>contentId</th>\n",
       "      <th>authorPersonId</th>\n",
       "      <th>authorSessionId</th>\n",
       "      <th>authorUserAgent</th>\n",
       "      <th>authorRegion</th>\n",
       "      <th>authorCountry</th>\n",
       "      <th>contentType</th>\n",
       "      <th>url</th>\n",
       "      <th>title</th>\n",
       "      <th>text</th>\n",
       "      <th>lang</th>\n",
       "    </tr>\n",
       "  </thead>\n",
       "  <tbody>\n",
       "    <tr>\n",
       "      <th>0</th>\n",
       "      <td>1459192779</td>\n",
       "      <td>CONTENT REMOVED</td>\n",
       "      <td>-6451309518266745024</td>\n",
       "      <td>4340306774493623681</td>\n",
       "      <td>8940341205206233829</td>\n",
       "      <td>NaN</td>\n",
       "      <td>NaN</td>\n",
       "      <td>NaN</td>\n",
       "      <td>HTML</td>\n",
       "      <td>http://www.nytimes.com/2016/03/28/business/dea...</td>\n",
       "      <td>Ethereum, a Virtual Currency, Enables Transact...</td>\n",
       "      <td>All of this work is still very early. The firs...</td>\n",
       "      <td>en</td>\n",
       "    </tr>\n",
       "    <tr>\n",
       "      <th>1</th>\n",
       "      <td>1459193988</td>\n",
       "      <td>CONTENT SHARED</td>\n",
       "      <td>-4110354420726924665</td>\n",
       "      <td>4340306774493623681</td>\n",
       "      <td>8940341205206233829</td>\n",
       "      <td>NaN</td>\n",
       "      <td>NaN</td>\n",
       "      <td>NaN</td>\n",
       "      <td>HTML</td>\n",
       "      <td>http://www.nytimes.com/2016/03/28/business/dea...</td>\n",
       "      <td>Ethereum, a Virtual Currency, Enables Transact...</td>\n",
       "      <td>All of this work is still very early. The firs...</td>\n",
       "      <td>en</td>\n",
       "    </tr>\n",
       "    <tr>\n",
       "      <th>2</th>\n",
       "      <td>1459194146</td>\n",
       "      <td>CONTENT SHARED</td>\n",
       "      <td>-7292285110016212249</td>\n",
       "      <td>4340306774493623681</td>\n",
       "      <td>8940341205206233829</td>\n",
       "      <td>NaN</td>\n",
       "      <td>NaN</td>\n",
       "      <td>NaN</td>\n",
       "      <td>HTML</td>\n",
       "      <td>http://cointelegraph.com/news/bitcoin-future-w...</td>\n",
       "      <td>Bitcoin Future: When GBPcoin of Branson Wins O...</td>\n",
       "      <td>The alarm clock wakes me at 8:00 with stream o...</td>\n",
       "      <td>en</td>\n",
       "    </tr>\n",
       "    <tr>\n",
       "      <th>3</th>\n",
       "      <td>1459194474</td>\n",
       "      <td>CONTENT SHARED</td>\n",
       "      <td>-6151852268067518688</td>\n",
       "      <td>3891637997717104548</td>\n",
       "      <td>-1457532940883382585</td>\n",
       "      <td>NaN</td>\n",
       "      <td>NaN</td>\n",
       "      <td>NaN</td>\n",
       "      <td>HTML</td>\n",
       "      <td>https://cloudplatform.googleblog.com/2016/03/G...</td>\n",
       "      <td>Google Data Center 360° Tour</td>\n",
       "      <td>We're excited to share the Google Data Center ...</td>\n",
       "      <td>en</td>\n",
       "    </tr>\n",
       "    <tr>\n",
       "      <th>4</th>\n",
       "      <td>1459194497</td>\n",
       "      <td>CONTENT SHARED</td>\n",
       "      <td>2448026894306402386</td>\n",
       "      <td>4340306774493623681</td>\n",
       "      <td>8940341205206233829</td>\n",
       "      <td>NaN</td>\n",
       "      <td>NaN</td>\n",
       "      <td>NaN</td>\n",
       "      <td>HTML</td>\n",
       "      <td>https://bitcoinmagazine.com/articles/ibm-wants...</td>\n",
       "      <td>IBM Wants to \"Evolve the Internet\" With Blockc...</td>\n",
       "      <td>The Aite Group projects the blockchain market ...</td>\n",
       "      <td>en</td>\n",
       "    </tr>\n",
       "  </tbody>\n",
       "</table>\n",
       "</div>"
      ],
      "text/plain": [
       "    timestamp  ... lang\n",
       "0  1459192779  ...   en\n",
       "1  1459193988  ...   en\n",
       "2  1459194146  ...   en\n",
       "3  1459194474  ...   en\n",
       "4  1459194497  ...   en\n",
       "\n",
       "[5 rows x 13 columns]"
      ]
     },
     "execution_count": 4,
     "metadata": {},
     "output_type": "execute_result"
    }
   ],
   "source": [
    "# I used Deskdrop's log data\n",
    "# source: https://www.kaggle.com/gspmoreira/articles-sharing-reading-from-cit-deskdrop\n",
    "\n",
    "a_df = pd.read_csv('shared_articles.csv')\n",
    "a_df.head()"
   ]
  },
  {
   "cell_type": "code",
   "execution_count": 5,
   "metadata": {
    "colab": {
     "base_uri": "https://localhost:8080/",
     "height": 296
    },
    "id": "cTd-Jx__-F7D",
    "outputId": "33337568-9df7-422b-9a68-a1c40d156fd5"
   },
   "outputs": [
    {
     "data": {
      "text/html": [
       "<div>\n",
       "<style scoped>\n",
       "    .dataframe tbody tr th:only-of-type {\n",
       "        vertical-align: middle;\n",
       "    }\n",
       "\n",
       "    .dataframe tbody tr th {\n",
       "        vertical-align: top;\n",
       "    }\n",
       "\n",
       "    .dataframe thead th {\n",
       "        text-align: right;\n",
       "    }\n",
       "</style>\n",
       "<table border=\"1\" class=\"dataframe\">\n",
       "  <thead>\n",
       "    <tr style=\"text-align: right;\">\n",
       "      <th></th>\n",
       "      <th>timestamp</th>\n",
       "      <th>eventType</th>\n",
       "      <th>contentId</th>\n",
       "      <th>personId</th>\n",
       "      <th>sessionId</th>\n",
       "      <th>userAgent</th>\n",
       "      <th>userRegion</th>\n",
       "      <th>userCountry</th>\n",
       "    </tr>\n",
       "  </thead>\n",
       "  <tbody>\n",
       "    <tr>\n",
       "      <th>0</th>\n",
       "      <td>1465413032</td>\n",
       "      <td>VIEW</td>\n",
       "      <td>-3499919498720038879</td>\n",
       "      <td>-8845298781299428018</td>\n",
       "      <td>1264196770339959068</td>\n",
       "      <td>NaN</td>\n",
       "      <td>NaN</td>\n",
       "      <td>NaN</td>\n",
       "    </tr>\n",
       "    <tr>\n",
       "      <th>1</th>\n",
       "      <td>1465412560</td>\n",
       "      <td>VIEW</td>\n",
       "      <td>8890720798209849691</td>\n",
       "      <td>-1032019229384696495</td>\n",
       "      <td>3621737643587579081</td>\n",
       "      <td>Mozilla/5.0 (Macintosh; Intel Mac OS X 10_11_2...</td>\n",
       "      <td>NY</td>\n",
       "      <td>US</td>\n",
       "    </tr>\n",
       "    <tr>\n",
       "      <th>2</th>\n",
       "      <td>1465416190</td>\n",
       "      <td>VIEW</td>\n",
       "      <td>310515487419366995</td>\n",
       "      <td>-1130272294246983140</td>\n",
       "      <td>2631864456530402479</td>\n",
       "      <td>NaN</td>\n",
       "      <td>NaN</td>\n",
       "      <td>NaN</td>\n",
       "    </tr>\n",
       "    <tr>\n",
       "      <th>3</th>\n",
       "      <td>1465413895</td>\n",
       "      <td>FOLLOW</td>\n",
       "      <td>310515487419366995</td>\n",
       "      <td>344280948527967603</td>\n",
       "      <td>-3167637573980064150</td>\n",
       "      <td>NaN</td>\n",
       "      <td>NaN</td>\n",
       "      <td>NaN</td>\n",
       "    </tr>\n",
       "    <tr>\n",
       "      <th>4</th>\n",
       "      <td>1465412290</td>\n",
       "      <td>VIEW</td>\n",
       "      <td>-7820640624231356730</td>\n",
       "      <td>-445337111692715325</td>\n",
       "      <td>5611481178424124714</td>\n",
       "      <td>NaN</td>\n",
       "      <td>NaN</td>\n",
       "      <td>NaN</td>\n",
       "    </tr>\n",
       "  </tbody>\n",
       "</table>\n",
       "</div>"
      ],
      "text/plain": [
       "    timestamp eventType  ...  userRegion  userCountry\n",
       "0  1465413032      VIEW  ...         NaN          NaN\n",
       "1  1465412560      VIEW  ...          NY           US\n",
       "2  1465416190      VIEW  ...         NaN          NaN\n",
       "3  1465413895    FOLLOW  ...         NaN          NaN\n",
       "4  1465412290      VIEW  ...         NaN          NaN\n",
       "\n",
       "[5 rows x 8 columns]"
      ]
     },
     "execution_count": 5,
     "metadata": {},
     "output_type": "execute_result"
    }
   ],
   "source": [
    "i_df = pd.read_csv('users_interactions.csv')\n",
    "i_df.head()"
   ]
  },
  {
   "cell_type": "code",
   "execution_count": 6,
   "metadata": {
    "colab": {
     "base_uri": "https://localhost:8080/"
    },
    "id": "vW7sd8q5-OGd",
    "outputId": "edf67c49-e17c-4b17-92e4-418417434b97"
   },
   "outputs": [
    {
     "name": "stdout",
     "output_type": "stream",
     "text": [
      "CONTENT SHARED     3047\n",
      "CONTENT REMOVED      75\n",
      "Name: eventType, dtype: int64\n"
     ]
    }
   ],
   "source": [
    "# remove 'content removed'\n",
    "\n",
    "print(a_df.eventType.value_counts())\n",
    "a_df = a_df[a_df['eventType'] == 'CONTENT SHARED'] "
   ]
  },
  {
   "cell_type": "code",
   "execution_count": 7,
   "metadata": {
    "colab": {
     "base_uri": "https://localhost:8080/",
     "height": 424
    },
    "id": "HLQXVY6e-fJl",
    "outputId": "17de3534-7c7e-4d19-e3a6-18f35abf266d"
   },
   "outputs": [
    {
     "data": {
      "text/html": [
       "<div>\n",
       "<style scoped>\n",
       "    .dataframe tbody tr th:only-of-type {\n",
       "        vertical-align: middle;\n",
       "    }\n",
       "\n",
       "    .dataframe tbody tr th {\n",
       "        vertical-align: top;\n",
       "    }\n",
       "\n",
       "    .dataframe thead th {\n",
       "        text-align: right;\n",
       "    }\n",
       "</style>\n",
       "<table border=\"1\" class=\"dataframe\">\n",
       "  <thead>\n",
       "    <tr style=\"text-align: right;\">\n",
       "      <th></th>\n",
       "      <th>contentId</th>\n",
       "      <th>personId</th>\n",
       "      <th>eventType</th>\n",
       "      <th>title</th>\n",
       "    </tr>\n",
       "  </thead>\n",
       "  <tbody>\n",
       "    <tr>\n",
       "      <th>0</th>\n",
       "      <td>-3499919498720038879</td>\n",
       "      <td>-8845298781299428018</td>\n",
       "      <td>VIEW</td>\n",
       "      <td>Hiri wants to fix the workplace email problem</td>\n",
       "    </tr>\n",
       "    <tr>\n",
       "      <th>1</th>\n",
       "      <td>-3499919498720038879</td>\n",
       "      <td>-8845298781299428018</td>\n",
       "      <td>VIEW</td>\n",
       "      <td>Hiri wants to fix the workplace email problem</td>\n",
       "    </tr>\n",
       "    <tr>\n",
       "      <th>2</th>\n",
       "      <td>-3499919498720038879</td>\n",
       "      <td>-108842214936804958</td>\n",
       "      <td>VIEW</td>\n",
       "      <td>Hiri wants to fix the workplace email problem</td>\n",
       "    </tr>\n",
       "    <tr>\n",
       "      <th>3</th>\n",
       "      <td>-3499919498720038879</td>\n",
       "      <td>-1443636648652872475</td>\n",
       "      <td>VIEW</td>\n",
       "      <td>Hiri wants to fix the workplace email problem</td>\n",
       "    </tr>\n",
       "    <tr>\n",
       "      <th>4</th>\n",
       "      <td>-3499919498720038879</td>\n",
       "      <td>-1443636648652872475</td>\n",
       "      <td>VIEW</td>\n",
       "      <td>Hiri wants to fix the workplace email problem</td>\n",
       "    </tr>\n",
       "    <tr>\n",
       "      <th>...</th>\n",
       "      <td>...</td>\n",
       "      <td>...</td>\n",
       "      <td>...</td>\n",
       "      <td>...</td>\n",
       "    </tr>\n",
       "    <tr>\n",
       "      <th>72264</th>\n",
       "      <td>-7108012586837980940</td>\n",
       "      <td>-4028919343899978105</td>\n",
       "      <td>VIEW</td>\n",
       "      <td>The Ultimate Digital Clean-Up Checklist: Are Y...</td>\n",
       "    </tr>\n",
       "    <tr>\n",
       "      <th>72265</th>\n",
       "      <td>7526977287801930517</td>\n",
       "      <td>-3643155458357242906</td>\n",
       "      <td>VIEW</td>\n",
       "      <td>Renewing Medium's focus</td>\n",
       "    </tr>\n",
       "    <tr>\n",
       "      <th>72266</th>\n",
       "      <td>-282629989972409543</td>\n",
       "      <td>5660542693104786364</td>\n",
       "      <td>VIEW</td>\n",
       "      <td>Santander Brasil gera 21% do resultado da matr...</td>\n",
       "    </tr>\n",
       "    <tr>\n",
       "      <th>72267</th>\n",
       "      <td>-6468782714472551646</td>\n",
       "      <td>5660542693104786364</td>\n",
       "      <td>VIEW</td>\n",
       "      <td>Santander Brasil tem lucro gerencial de R$ 1,9...</td>\n",
       "    </tr>\n",
       "    <tr>\n",
       "      <th>72268</th>\n",
       "      <td>-9040419159428373932</td>\n",
       "      <td>-7496361692498935601</td>\n",
       "      <td>VIEW</td>\n",
       "      <td>Depois da Inteligência Artificial, vem aí a In...</td>\n",
       "    </tr>\n",
       "  </tbody>\n",
       "</table>\n",
       "<p>72269 rows × 4 columns</p>\n",
       "</div>"
      ],
      "text/plain": [
       "                 contentId  ...                                              title\n",
       "0     -3499919498720038879  ...      Hiri wants to fix the workplace email problem\n",
       "1     -3499919498720038879  ...      Hiri wants to fix the workplace email problem\n",
       "2     -3499919498720038879  ...      Hiri wants to fix the workplace email problem\n",
       "3     -3499919498720038879  ...      Hiri wants to fix the workplace email problem\n",
       "4     -3499919498720038879  ...      Hiri wants to fix the workplace email problem\n",
       "...                    ...  ...                                                ...\n",
       "72264 -7108012586837980940  ...  The Ultimate Digital Clean-Up Checklist: Are Y...\n",
       "72265  7526977287801930517  ...                            Renewing Medium's focus\n",
       "72266  -282629989972409543  ...  Santander Brasil gera 21% do resultado da matr...\n",
       "72267 -6468782714472551646  ...  Santander Brasil tem lucro gerencial de R$ 1,9...\n",
       "72268 -9040419159428373932  ...  Depois da Inteligência Artificial, vem aí a In...\n",
       "\n",
       "[72269 rows x 4 columns]"
      ]
     },
     "execution_count": 7,
     "metadata": {},
     "output_type": "execute_result"
    }
   ],
   "source": [
    "# merge dataframe of interactions with dataframe of articles\n",
    "df = pd.merge(i_df[['contentId', 'personId', 'eventType']], a_df[['contentId', 'title']],\n",
    "        how='inner', on='contentId')\n",
    "df"
   ]
  },
  {
   "cell_type": "code",
   "execution_count": 8,
   "metadata": {
    "colab": {
     "base_uri": "https://localhost:8080/"
    },
    "id": "wQ2_vcPi-gLt",
    "outputId": "bdd64005-892e-4d3f-8c6e-aaacf83b3f72"
   },
   "outputs": [
    {
     "data": {
      "text/plain": [
       "VIEW               61043\n",
       "LIKE                5745\n",
       "BOOKMARK            2463\n",
       "COMMENT CREATED     1611\n",
       "FOLLOW              1407\n",
       "Name: eventType, dtype: int64"
      ]
     },
     "execution_count": 8,
     "metadata": {},
     "output_type": "execute_result"
    }
   ],
   "source": [
    "df['eventType'].value_counts()"
   ]
  },
  {
   "cell_type": "code",
   "execution_count": 9,
   "metadata": {
    "colab": {
     "base_uri": "https://localhost:8080/",
     "height": 424
    },
    "id": "A1AStdFt-ibl",
    "outputId": "a1a7f9cd-aeb7-4698-fb3e-2cf8b8ddc3e5"
   },
   "outputs": [
    {
     "data": {
      "text/html": [
       "<div>\n",
       "<style scoped>\n",
       "    .dataframe tbody tr th:only-of-type {\n",
       "        vertical-align: middle;\n",
       "    }\n",
       "\n",
       "    .dataframe tbody tr th {\n",
       "        vertical-align: top;\n",
       "    }\n",
       "\n",
       "    .dataframe thead th {\n",
       "        text-align: right;\n",
       "    }\n",
       "</style>\n",
       "<table border=\"1\" class=\"dataframe\">\n",
       "  <thead>\n",
       "    <tr style=\"text-align: right;\">\n",
       "      <th></th>\n",
       "      <th>contentId</th>\n",
       "      <th>personId</th>\n",
       "      <th>eventType</th>\n",
       "      <th>title</th>\n",
       "      <th>weight</th>\n",
       "    </tr>\n",
       "  </thead>\n",
       "  <tbody>\n",
       "    <tr>\n",
       "      <th>0</th>\n",
       "      <td>-3499919498720038879</td>\n",
       "      <td>-8845298781299428018</td>\n",
       "      <td>VIEW</td>\n",
       "      <td>Hiri wants to fix the workplace email problem</td>\n",
       "      <td>1</td>\n",
       "    </tr>\n",
       "    <tr>\n",
       "      <th>1</th>\n",
       "      <td>-3499919498720038879</td>\n",
       "      <td>-8845298781299428018</td>\n",
       "      <td>VIEW</td>\n",
       "      <td>Hiri wants to fix the workplace email problem</td>\n",
       "      <td>1</td>\n",
       "    </tr>\n",
       "    <tr>\n",
       "      <th>2</th>\n",
       "      <td>-3499919498720038879</td>\n",
       "      <td>-108842214936804958</td>\n",
       "      <td>VIEW</td>\n",
       "      <td>Hiri wants to fix the workplace email problem</td>\n",
       "      <td>1</td>\n",
       "    </tr>\n",
       "    <tr>\n",
       "      <th>3</th>\n",
       "      <td>-3499919498720038879</td>\n",
       "      <td>-1443636648652872475</td>\n",
       "      <td>VIEW</td>\n",
       "      <td>Hiri wants to fix the workplace email problem</td>\n",
       "      <td>1</td>\n",
       "    </tr>\n",
       "    <tr>\n",
       "      <th>4</th>\n",
       "      <td>-3499919498720038879</td>\n",
       "      <td>-1443636648652872475</td>\n",
       "      <td>VIEW</td>\n",
       "      <td>Hiri wants to fix the workplace email problem</td>\n",
       "      <td>1</td>\n",
       "    </tr>\n",
       "    <tr>\n",
       "      <th>...</th>\n",
       "      <td>...</td>\n",
       "      <td>...</td>\n",
       "      <td>...</td>\n",
       "      <td>...</td>\n",
       "      <td>...</td>\n",
       "    </tr>\n",
       "    <tr>\n",
       "      <th>72264</th>\n",
       "      <td>-7108012586837980940</td>\n",
       "      <td>-4028919343899978105</td>\n",
       "      <td>VIEW</td>\n",
       "      <td>The Ultimate Digital Clean-Up Checklist: Are Y...</td>\n",
       "      <td>1</td>\n",
       "    </tr>\n",
       "    <tr>\n",
       "      <th>72265</th>\n",
       "      <td>7526977287801930517</td>\n",
       "      <td>-3643155458357242906</td>\n",
       "      <td>VIEW</td>\n",
       "      <td>Renewing Medium's focus</td>\n",
       "      <td>1</td>\n",
       "    </tr>\n",
       "    <tr>\n",
       "      <th>72266</th>\n",
       "      <td>-282629989972409543</td>\n",
       "      <td>5660542693104786364</td>\n",
       "      <td>VIEW</td>\n",
       "      <td>Santander Brasil gera 21% do resultado da matr...</td>\n",
       "      <td>1</td>\n",
       "    </tr>\n",
       "    <tr>\n",
       "      <th>72267</th>\n",
       "      <td>-6468782714472551646</td>\n",
       "      <td>5660542693104786364</td>\n",
       "      <td>VIEW</td>\n",
       "      <td>Santander Brasil tem lucro gerencial de R$ 1,9...</td>\n",
       "      <td>1</td>\n",
       "    </tr>\n",
       "    <tr>\n",
       "      <th>72268</th>\n",
       "      <td>-9040419159428373932</td>\n",
       "      <td>-7496361692498935601</td>\n",
       "      <td>VIEW</td>\n",
       "      <td>Depois da Inteligência Artificial, vem aí a In...</td>\n",
       "      <td>1</td>\n",
       "    </tr>\n",
       "  </tbody>\n",
       "</table>\n",
       "<p>72269 rows × 5 columns</p>\n",
       "</div>"
      ],
      "text/plain": [
       "                 contentId  ...  weight\n",
       "0     -3499919498720038879  ...       1\n",
       "1     -3499919498720038879  ...       1\n",
       "2     -3499919498720038879  ...       1\n",
       "3     -3499919498720038879  ...       1\n",
       "4     -3499919498720038879  ...       1\n",
       "...                    ...  ...     ...\n",
       "72264 -7108012586837980940  ...       1\n",
       "72265  7526977287801930517  ...       1\n",
       "72266  -282629989972409543  ...       1\n",
       "72267 -6468782714472551646  ...       1\n",
       "72268 -9040419159428373932  ...       1\n",
       "\n",
       "[72269 rows x 5 columns]"
      ]
     },
     "execution_count": 9,
     "metadata": {},
     "output_type": "execute_result"
    }
   ],
   "source": [
    "# give weight for each eventType according to importance\n",
    "weights = {'VIEW':1, 'LIKE':2, 'BOOKMARK':3, 'FOLLOW':4, 'COMMENT CREATED':5}\n",
    "\n",
    "df['weight'] = df['eventType'].apply(lambda x: weights[x])\n",
    "df"
   ]
  },
  {
   "cell_type": "code",
   "execution_count": 10,
   "metadata": {
    "colab": {
     "base_uri": "https://localhost:8080/"
    },
    "id": "O1FGlcI0-hnf",
    "outputId": "5ab42ae0-717b-40b6-db79-52bf36ae3058"
   },
   "outputs": [
    {
     "name": "stdout",
     "output_type": "stream",
     "text": [
      "(72269, 5)\n",
      "                 contentId  ...  weight\n",
      "1     -3499919498720038879  ...       1\n",
      "4     -3499919498720038879  ...       1\n",
      "5     -3499919498720038879  ...       1\n",
      "7     -3499919498720038879  ...       1\n",
      "10    -3499919498720038879  ...       1\n",
      "...                    ...  ...     ...\n",
      "72224  4675505028897335428  ...       1\n",
      "72225  4675505028897335428  ...       1\n",
      "72226  4675505028897335428  ...       1\n",
      "72231  4675505028897335428  ...       1\n",
      "72258  4644184613269860655  ...       1\n",
      "\n",
      "[21359 rows x 5 columns]\n",
      "(50910, 5)\n"
     ]
    }
   ],
   "source": [
    "# drop duplicated instance\n",
    "\n",
    "print(df.shape)\n",
    "print(df[df.duplicated(keep='first')])\n",
    "df = df.drop_duplicates()\n",
    "print(df.shape)"
   ]
  },
  {
   "cell_type": "code",
   "execution_count": 11,
   "metadata": {
    "colab": {
     "base_uri": "https://localhost:8080/",
     "height": 424
    },
    "id": "kIgg3D1L-j9H",
    "outputId": "12f2ce71-7507-45bc-f28a-b82a2ac5c9b8"
   },
   "outputs": [
    {
     "data": {
      "text/html": [
       "<div>\n",
       "<style scoped>\n",
       "    .dataframe tbody tr th:only-of-type {\n",
       "        vertical-align: middle;\n",
       "    }\n",
       "\n",
       "    .dataframe tbody tr th {\n",
       "        vertical-align: top;\n",
       "    }\n",
       "\n",
       "    .dataframe thead th {\n",
       "        text-align: right;\n",
       "    }\n",
       "</style>\n",
       "<table border=\"1\" class=\"dataframe\">\n",
       "  <thead>\n",
       "    <tr style=\"text-align: right;\">\n",
       "      <th></th>\n",
       "      <th>personId</th>\n",
       "      <th>contentId</th>\n",
       "      <th>title</th>\n",
       "      <th>weight</th>\n",
       "    </tr>\n",
       "  </thead>\n",
       "  <tbody>\n",
       "    <tr>\n",
       "      <th>0</th>\n",
       "      <td>-9223121837663643404</td>\n",
       "      <td>-8949113594875411859</td>\n",
       "      <td>No Brasil, '25% dos celulares ainda são 'Burro...</td>\n",
       "      <td>1</td>\n",
       "    </tr>\n",
       "    <tr>\n",
       "      <th>1</th>\n",
       "      <td>-9223121837663643404</td>\n",
       "      <td>-8377626164558006982</td>\n",
       "      <td>Bad Writing Is Destroying Your Company's Produ...</td>\n",
       "      <td>1</td>\n",
       "    </tr>\n",
       "    <tr>\n",
       "      <th>2</th>\n",
       "      <td>-9223121837663643404</td>\n",
       "      <td>-8208801367848627943</td>\n",
       "      <td>Ray Kurzweil: The world isn't getting worse - ...</td>\n",
       "      <td>1</td>\n",
       "    </tr>\n",
       "    <tr>\n",
       "      <th>3</th>\n",
       "      <td>-9223121837663643404</td>\n",
       "      <td>-8187220755213888616</td>\n",
       "      <td>Organizing for digital acceleration: Making a ...</td>\n",
       "      <td>1</td>\n",
       "    </tr>\n",
       "    <tr>\n",
       "      <th>4</th>\n",
       "      <td>-9223121837663643404</td>\n",
       "      <td>-7423191370472335463</td>\n",
       "      <td>Espresso Intents: não é magia, é tecnologia! -...</td>\n",
       "      <td>1</td>\n",
       "    </tr>\n",
       "    <tr>\n",
       "      <th>...</th>\n",
       "      <td>...</td>\n",
       "      <td>...</td>\n",
       "      <td>...</td>\n",
       "      <td>...</td>\n",
       "    </tr>\n",
       "    <tr>\n",
       "      <th>40677</th>\n",
       "      <td>9210530975708218054</td>\n",
       "      <td>8477804012624580461</td>\n",
       "      <td>Gartner: em 2020 não haverá mais aplicativos</td>\n",
       "      <td>10</td>\n",
       "    </tr>\n",
       "    <tr>\n",
       "      <th>40678</th>\n",
       "      <td>9210530975708218054</td>\n",
       "      <td>8526042588044002101</td>\n",
       "      <td>Cloud Native Part 1: Definition</td>\n",
       "      <td>1</td>\n",
       "    </tr>\n",
       "    <tr>\n",
       "      <th>40679</th>\n",
       "      <td>9210530975708218054</td>\n",
       "      <td>8856169137131817223</td>\n",
       "      <td>Para inovar é preciso mais do que boas ideias ...</td>\n",
       "      <td>1</td>\n",
       "    </tr>\n",
       "    <tr>\n",
       "      <th>40680</th>\n",
       "      <td>9210530975708218054</td>\n",
       "      <td>8869347744613364434</td>\n",
       "      <td>Java Garbage Collection Essencial</td>\n",
       "      <td>1</td>\n",
       "    </tr>\n",
       "    <tr>\n",
       "      <th>40681</th>\n",
       "      <td>9210530975708218054</td>\n",
       "      <td>9209886322932807692</td>\n",
       "      <td>Web Share API</td>\n",
       "      <td>1</td>\n",
       "    </tr>\n",
       "  </tbody>\n",
       "</table>\n",
       "<p>40682 rows × 4 columns</p>\n",
       "</div>"
      ],
      "text/plain": [
       "                  personId  ...  weight\n",
       "0     -9223121837663643404  ...       1\n",
       "1     -9223121837663643404  ...       1\n",
       "2     -9223121837663643404  ...       1\n",
       "3     -9223121837663643404  ...       1\n",
       "4     -9223121837663643404  ...       1\n",
       "...                    ...  ...     ...\n",
       "40677  9210530975708218054  ...      10\n",
       "40678  9210530975708218054  ...       1\n",
       "40679  9210530975708218054  ...       1\n",
       "40680  9210530975708218054  ...       1\n",
       "40681  9210530975708218054  ...       1\n",
       "\n",
       "[40682 rows x 4 columns]"
      ]
     },
     "execution_count": 11,
     "metadata": {},
     "output_type": "execute_result"
    }
   ],
   "source": [
    "# sum weights with group by \n",
    "df1 = df.groupby(['personId', 'contentId', 'title']).sum().reset_index()\n",
    "df1"
   ]
  },
  {
   "cell_type": "markdown",
   "metadata": {
    "id": "xqsFaL-lCFRn"
   },
   "source": [
    "# Modeling - Alternating Least Squares"
   ]
  },
  {
   "cell_type": "code",
   "execution_count": 12,
   "metadata": {
    "id": "i9vUK2_f-lJ4"
   },
   "outputs": [],
   "source": [
    "# create category index columns to make sparse matrices\n",
    "\n",
    "df1['person_id'] = df1['personId'].astype('category').cat.codes\n",
    "df1['content_id'] = df1['contentId'].astype('category').cat.codes"
   ]
  },
  {
   "cell_type": "code",
   "execution_count": 13,
   "metadata": {
    "colab": {
     "base_uri": "https://localhost:8080/"
    },
    "id": "ZFBN_g15JALR",
    "outputId": "c86af0ec-378d-4585-bb3a-aa9f3b5a91b9"
   },
   "outputs": [
    {
     "data": {
      "text/plain": [
       "0           0\n",
       "1           0\n",
       "2           0\n",
       "3           0\n",
       "4           0\n",
       "         ... \n",
       "40677    1894\n",
       "40678    1894\n",
       "40679    1894\n",
       "40680    1894\n",
       "40681    1894\n",
       "Name: person_id, Length: 40682, dtype: int16"
      ]
     },
     "execution_count": 13,
     "metadata": {},
     "output_type": "execute_result"
    }
   ],
   "source": [
    "df1.person_id"
   ]
  },
  {
   "cell_type": "code",
   "execution_count": 15,
   "metadata": {
    "id": "tjHLhXFcC2WP"
   },
   "outputs": [],
   "source": [
    "# create sparse matrices\n",
    "# Use scipy csr matrix: csr_matrix((data, (row_ind, col_ind)))\n",
    "# a_ij = sum(data) for all (data, (i, j))\n",
    "\n",
    "content_user = sparse.csr_matrix((df1['weight'],(df1['content_id'], df1['person_id'])))\n",
    "user_content = sparse.csr_matrix((df1['weight'],(df1['person_id'], df1['content_id'])))"
   ]
  },
  {
   "cell_type": "code",
   "execution_count": 16,
   "metadata": {
    "colab": {
     "base_uri": "https://localhost:8080/"
    },
    "id": "eVtcOmTOJL4H",
    "outputId": "76bacf30-549f-4a6f-d4f4-edee3dddb064"
   },
   "outputs": [
    {
     "data": {
      "text/plain": [
       "<2979x1895 sparse matrix of type '<class 'numpy.longlong'>'\n",
       "\twith 40682 stored elements in Compressed Sparse Row format>"
      ]
     },
     "execution_count": 16,
     "metadata": {},
     "output_type": "execute_result"
    }
   ],
   "source": [
    "content_user"
   ]
  },
  {
   "cell_type": "code",
   "execution_count": 19,
   "metadata": {
    "colab": {
     "base_uri": "https://localhost:8080/"
    },
    "id": "RYkDti4AJZuD",
    "outputId": "5ed19e4e-2a7e-4c5c-e227-ee920787107a"
   },
   "outputs": [
    {
     "name": "stdout",
     "output_type": "stream",
     "text": [
      "sparsity: 0.9927935300843813\n"
     ]
    }
   ],
   "source": [
    "print('sparsity:', (2979 * 1895 - 40682)/(2979 * 1895)) # sparsity 99.3%의 matrix"
   ]
  },
  {
   "cell_type": "code",
   "execution_count": 20,
   "metadata": {
    "colab": {
     "base_uri": "https://localhost:8080/"
    },
    "id": "sr1oe3LtJauH",
    "outputId": "fd5f4fbf-8602-4c25-c737-7898f7dc78a0"
   },
   "outputs": [
    {
     "name": "stderr",
     "output_type": "stream",
     "text": [
      "WARNING:root:OpenBLAS detected. Its highly recommend to set the environment variable 'export OPENBLAS_NUM_THREADS=1' to disable its internal multithreading\n"
     ]
    }
   ],
   "source": [
    "# We use a latent factor method because the number of contents are big\n",
    "# We use Implicit library because the dataset is implicit\n",
    "# Algorithm: Alternaing Least Squares\n",
    "\n",
    "model = implicit.als.AlternatingLeastSquares(factors=32, regularization=0.1, iterations=50, random_state=42)"
   ]
  },
  {
   "cell_type": "code",
   "execution_count": 21,
   "metadata": {
    "id": "1Ao98Hg8J8e4"
   },
   "outputs": [],
   "source": [
    "# Calculate the confidence by multiplying alpha\n",
    "\n",
    "alpha = 15\n",
    "data_conf = (content_user * alpha).astype('double')"
   ]
  },
  {
   "cell_type": "code",
   "execution_count": 22,
   "metadata": {
    "colab": {
     "base_uri": "https://localhost:8080/",
     "height": 49,
     "referenced_widgets": [
      "f38c0b90b7474bcabfc5ee691f394f2e",
      "e6086326282342b497e3b7159e779be7",
      "26d959ed6c9240c9b808da604715c935",
      "05b16ebe565c41a5b4ade1ce5137030c",
      "9fc0afbac61549cb9969b24807520b3a",
      "7a6c2a5c5c2840ebb9b1acba4d2e8c72",
      "3c20f7f461d34d06b438370802368d50",
      "2d823434e9d8493b85dc1d346689b4ab",
      "352a6ba980424571a0e76f67731a8704",
      "e9fc545ced7b44239216aba6a145c2d9",
      "87022d78e7014bf481d4076c67ec9939"
     ]
    },
    "id": "CVVVJTKlKCEn",
    "outputId": "3977640e-c72c-496d-994f-11f64fab0811"
   },
   "outputs": [
    {
     "data": {
      "application/vnd.jupyter.widget-view+json": {
       "model_id": "f38c0b90b7474bcabfc5ee691f394f2e",
       "version_major": 2,
       "version_minor": 0
      },
      "text/plain": [
       "  0%|          | 0/50 [00:00<?, ?it/s]"
      ]
     },
     "metadata": {},
     "output_type": "display_data"
    }
   ],
   "source": [
    "# Fit the model\n",
    "\n",
    "model.fit(data_conf)"
   ]
  },
  {
   "cell_type": "code",
   "execution_count": 23,
   "metadata": {
    "colab": {
     "base_uri": "https://localhost:8080/"
    },
    "id": "5V9nQ_CvKB7b",
    "outputId": "8ffc26d2-b104-476d-f2cf-b89922e06573"
   },
   "outputs": [
    {
     "data": {
      "text/plain": [
       "[(450, 1.0000001),\n",
       " (2746, 0.8830807),\n",
       " (2102, 0.8827647),\n",
       " (2913, 0.8799732),\n",
       " (2301, 0.8759437),\n",
       " (129, 0.8735974),\n",
       " (535, 0.8735723),\n",
       " (1398, 0.8687787),\n",
       " (1288, 0.86873996),\n",
       " (1518, 0.8672425)]"
      ]
     },
     "execution_count": 23,
     "metadata": {},
     "output_type": "execute_result"
    }
   ],
   "source": [
    "# Find similar articles\n",
    "\n",
    "content_id = 450\n",
    "n_similar = 10\n",
    "\n",
    "model.similar_items(content_id, n_similar)"
   ]
  },
  {
   "cell_type": "code",
   "execution_count": 42,
   "metadata": {
    "id": "qzJ-m6TbKg9P"
   },
   "outputs": [],
   "source": [
    "# define a function to find similar articles if content_id is given\n",
    "def find_similar_articles(content_id, n_similar=10):\n",
    "    print('Target articles:', df1.title.loc[df1.content_id == content_id].iloc[0])\n",
    "    similar = model.similar_items(content_id, n_similar)\n",
    "    print('---------------------------------------------------------------------------------------------')\n",
    "    print('Recommendations (The first article is very likely to be the target article):')\n",
    "    for idx, prob in similar:\n",
    "    print('title:', df1.title.loc[df1.content_id == idx].iloc[0], '(score:{:.4f})'.format(prob))"
   ]
  },
  {
   "cell_type": "code",
   "execution_count": 49,
   "metadata": {
    "colab": {
     "base_uri": "https://localhost:8080/"
    },
    "id": "SfVxZaMtMEaP",
    "outputId": "dbe7c486-7c6b-473d-a755-5db6d9b6bcb2"
   },
   "outputs": [
    {
     "name": "stdout",
     "output_type": "stream",
     "text": [
      "Target articles: Google's fair use victory is good for open source\n",
      "---------------------------------------------------------------------------------------------\n",
      "Recommendations (The first article is very likely to be the target article):\n",
      "title: Google's fair use victory is good for open source (score:1.0000)\n",
      "title: Google will show AMP URLs before App deep link URLs in mobile results (score:0.8831)\n",
      "title: Atlassian launches Bitbucket Pipelines (score:0.8828)\n",
      "title: How to forecast demand with Google BigQuery, public datasets and TensorFlow | Google Cloud Big Data and Machine Learning Blog (score:0.8800)\n",
      "title: Engineers Shouldn't Write ETL: A Guide to Building a High Functioning Data Science Department (score:0.8759)\n",
      "title: Apple Has Created 'Detailed Mockups' of iMessage for Android (score:0.8736)\n",
      "title: Robô da IBM substitui 34 funcionários de empresa no Japão (score:0.8736)\n",
      "title: O IPO é a saída para a Netshoes? (score:0.8688)\n",
      "title: Kaol Porfírio luta como uma garota! - Think Olga (score:0.8687)\n",
      "title: CrowdFlower raises $10 million from Microsoft and others to bring AI to data science (score:0.8672)\n"
     ]
    }
   ],
   "source": [
    "find_similar_articles(450)"
   ]
  },
  {
   "cell_type": "code",
   "execution_count": null,
   "metadata": {
    "id": "vT2-Ra2PMIOZ"
   },
   "outputs": [],
   "source": []
  }
 ],
 "metadata": {
  "accelerator": "GPU",
  "colab": {
   "name": "CF_deskdrop.ipynb",
   "provenance": []
  },
  "kernelspec": {
   "display_name": "recomm_sys",
   "language": "python",
   "name": "recomm_sys"
  },
  "language_info": {
   "codemirror_mode": {
    "name": "ipython",
    "version": 3
   },
   "file_extension": ".py",
   "mimetype": "text/x-python",
   "name": "python",
   "nbconvert_exporter": "python",
   "pygments_lexer": "ipython3",
   "version": "3.8.12"
  },
  "widgets": {
   "application/vnd.jupyter.widget-state+json": {
    "05b16ebe565c41a5b4ade1ce5137030c": {
     "model_module": "@jupyter-widgets/controls",
     "model_module_version": "1.5.0",
     "model_name": "FloatProgressModel",
     "state": {
      "_dom_classes": [],
      "_model_module": "@jupyter-widgets/controls",
      "_model_module_version": "1.5.0",
      "_model_name": "FloatProgressModel",
      "_view_count": null,
      "_view_module": "@jupyter-widgets/controls",
      "_view_module_version": "1.5.0",
      "_view_name": "ProgressView",
      "bar_style": "success",
      "description": "",
      "description_tooltip": null,
      "layout": "IPY_MODEL_352a6ba980424571a0e76f67731a8704",
      "max": 50,
      "min": 0,
      "orientation": "horizontal",
      "style": "IPY_MODEL_2d823434e9d8493b85dc1d346689b4ab",
      "value": 50
     }
    },
    "26d959ed6c9240c9b808da604715c935": {
     "model_module": "@jupyter-widgets/controls",
     "model_module_version": "1.5.0",
     "model_name": "HTMLModel",
     "state": {
      "_dom_classes": [],
      "_model_module": "@jupyter-widgets/controls",
      "_model_module_version": "1.5.0",
      "_model_name": "HTMLModel",
      "_view_count": null,
      "_view_module": "@jupyter-widgets/controls",
      "_view_module_version": "1.5.0",
      "_view_name": "HTMLView",
      "description": "",
      "description_tooltip": null,
      "layout": "IPY_MODEL_3c20f7f461d34d06b438370802368d50",
      "placeholder": "​",
      "style": "IPY_MODEL_7a6c2a5c5c2840ebb9b1acba4d2e8c72",
      "value": "100%"
     }
    },
    "2d823434e9d8493b85dc1d346689b4ab": {
     "model_module": "@jupyter-widgets/controls",
     "model_module_version": "1.5.0",
     "model_name": "ProgressStyleModel",
     "state": {
      "_model_module": "@jupyter-widgets/controls",
      "_model_module_version": "1.5.0",
      "_model_name": "ProgressStyleModel",
      "_view_count": null,
      "_view_module": "@jupyter-widgets/base",
      "_view_module_version": "1.2.0",
      "_view_name": "StyleView",
      "bar_color": null,
      "description_width": ""
     }
    },
    "352a6ba980424571a0e76f67731a8704": {
     "model_module": "@jupyter-widgets/base",
     "model_module_version": "1.2.0",
     "model_name": "LayoutModel",
     "state": {
      "_model_module": "@jupyter-widgets/base",
      "_model_module_version": "1.2.0",
      "_model_name": "LayoutModel",
      "_view_count": null,
      "_view_module": "@jupyter-widgets/base",
      "_view_module_version": "1.2.0",
      "_view_name": "LayoutView",
      "align_content": null,
      "align_items": null,
      "align_self": null,
      "border": null,
      "bottom": null,
      "display": null,
      "flex": null,
      "flex_flow": null,
      "grid_area": null,
      "grid_auto_columns": null,
      "grid_auto_flow": null,
      "grid_auto_rows": null,
      "grid_column": null,
      "grid_gap": null,
      "grid_row": null,
      "grid_template_areas": null,
      "grid_template_columns": null,
      "grid_template_rows": null,
      "height": null,
      "justify_content": null,
      "justify_items": null,
      "left": null,
      "margin": null,
      "max_height": null,
      "max_width": null,
      "min_height": null,
      "min_width": null,
      "object_fit": null,
      "object_position": null,
      "order": null,
      "overflow": null,
      "overflow_x": null,
      "overflow_y": null,
      "padding": null,
      "right": null,
      "top": null,
      "visibility": null,
      "width": null
     }
    },
    "3c20f7f461d34d06b438370802368d50": {
     "model_module": "@jupyter-widgets/base",
     "model_module_version": "1.2.0",
     "model_name": "LayoutModel",
     "state": {
      "_model_module": "@jupyter-widgets/base",
      "_model_module_version": "1.2.0",
      "_model_name": "LayoutModel",
      "_view_count": null,
      "_view_module": "@jupyter-widgets/base",
      "_view_module_version": "1.2.0",
      "_view_name": "LayoutView",
      "align_content": null,
      "align_items": null,
      "align_self": null,
      "border": null,
      "bottom": null,
      "display": null,
      "flex": null,
      "flex_flow": null,
      "grid_area": null,
      "grid_auto_columns": null,
      "grid_auto_flow": null,
      "grid_auto_rows": null,
      "grid_column": null,
      "grid_gap": null,
      "grid_row": null,
      "grid_template_areas": null,
      "grid_template_columns": null,
      "grid_template_rows": null,
      "height": null,
      "justify_content": null,
      "justify_items": null,
      "left": null,
      "margin": null,
      "max_height": null,
      "max_width": null,
      "min_height": null,
      "min_width": null,
      "object_fit": null,
      "object_position": null,
      "order": null,
      "overflow": null,
      "overflow_x": null,
      "overflow_y": null,
      "padding": null,
      "right": null,
      "top": null,
      "visibility": null,
      "width": null
     }
    },
    "7a6c2a5c5c2840ebb9b1acba4d2e8c72": {
     "model_module": "@jupyter-widgets/controls",
     "model_module_version": "1.5.0",
     "model_name": "DescriptionStyleModel",
     "state": {
      "_model_module": "@jupyter-widgets/controls",
      "_model_module_version": "1.5.0",
      "_model_name": "DescriptionStyleModel",
      "_view_count": null,
      "_view_module": "@jupyter-widgets/base",
      "_view_module_version": "1.2.0",
      "_view_name": "StyleView",
      "description_width": ""
     }
    },
    "87022d78e7014bf481d4076c67ec9939": {
     "model_module": "@jupyter-widgets/base",
     "model_module_version": "1.2.0",
     "model_name": "LayoutModel",
     "state": {
      "_model_module": "@jupyter-widgets/base",
      "_model_module_version": "1.2.0",
      "_model_name": "LayoutModel",
      "_view_count": null,
      "_view_module": "@jupyter-widgets/base",
      "_view_module_version": "1.2.0",
      "_view_name": "LayoutView",
      "align_content": null,
      "align_items": null,
      "align_self": null,
      "border": null,
      "bottom": null,
      "display": null,
      "flex": null,
      "flex_flow": null,
      "grid_area": null,
      "grid_auto_columns": null,
      "grid_auto_flow": null,
      "grid_auto_rows": null,
      "grid_column": null,
      "grid_gap": null,
      "grid_row": null,
      "grid_template_areas": null,
      "grid_template_columns": null,
      "grid_template_rows": null,
      "height": null,
      "justify_content": null,
      "justify_items": null,
      "left": null,
      "margin": null,
      "max_height": null,
      "max_width": null,
      "min_height": null,
      "min_width": null,
      "object_fit": null,
      "object_position": null,
      "order": null,
      "overflow": null,
      "overflow_x": null,
      "overflow_y": null,
      "padding": null,
      "right": null,
      "top": null,
      "visibility": null,
      "width": null
     }
    },
    "9fc0afbac61549cb9969b24807520b3a": {
     "model_module": "@jupyter-widgets/controls",
     "model_module_version": "1.5.0",
     "model_name": "HTMLModel",
     "state": {
      "_dom_classes": [],
      "_model_module": "@jupyter-widgets/controls",
      "_model_module_version": "1.5.0",
      "_model_name": "HTMLModel",
      "_view_count": null,
      "_view_module": "@jupyter-widgets/controls",
      "_view_module_version": "1.5.0",
      "_view_name": "HTMLView",
      "description": "",
      "description_tooltip": null,
      "layout": "IPY_MODEL_87022d78e7014bf481d4076c67ec9939",
      "placeholder": "​",
      "style": "IPY_MODEL_e9fc545ced7b44239216aba6a145c2d9",
      "value": " 50/50 [00:00&lt;00:00, 590.74it/s]"
     }
    },
    "e6086326282342b497e3b7159e779be7": {
     "model_module": "@jupyter-widgets/base",
     "model_module_version": "1.2.0",
     "model_name": "LayoutModel",
     "state": {
      "_model_module": "@jupyter-widgets/base",
      "_model_module_version": "1.2.0",
      "_model_name": "LayoutModel",
      "_view_count": null,
      "_view_module": "@jupyter-widgets/base",
      "_view_module_version": "1.2.0",
      "_view_name": "LayoutView",
      "align_content": null,
      "align_items": null,
      "align_self": null,
      "border": null,
      "bottom": null,
      "display": null,
      "flex": null,
      "flex_flow": null,
      "grid_area": null,
      "grid_auto_columns": null,
      "grid_auto_flow": null,
      "grid_auto_rows": null,
      "grid_column": null,
      "grid_gap": null,
      "grid_row": null,
      "grid_template_areas": null,
      "grid_template_columns": null,
      "grid_template_rows": null,
      "height": null,
      "justify_content": null,
      "justify_items": null,
      "left": null,
      "margin": null,
      "max_height": null,
      "max_width": null,
      "min_height": null,
      "min_width": null,
      "object_fit": null,
      "object_position": null,
      "order": null,
      "overflow": null,
      "overflow_x": null,
      "overflow_y": null,
      "padding": null,
      "right": null,
      "top": null,
      "visibility": null,
      "width": null
     }
    },
    "e9fc545ced7b44239216aba6a145c2d9": {
     "model_module": "@jupyter-widgets/controls",
     "model_module_version": "1.5.0",
     "model_name": "DescriptionStyleModel",
     "state": {
      "_model_module": "@jupyter-widgets/controls",
      "_model_module_version": "1.5.0",
      "_model_name": "DescriptionStyleModel",
      "_view_count": null,
      "_view_module": "@jupyter-widgets/base",
      "_view_module_version": "1.2.0",
      "_view_name": "StyleView",
      "description_width": ""
     }
    },
    "f38c0b90b7474bcabfc5ee691f394f2e": {
     "model_module": "@jupyter-widgets/controls",
     "model_module_version": "1.5.0",
     "model_name": "HBoxModel",
     "state": {
      "_dom_classes": [],
      "_model_module": "@jupyter-widgets/controls",
      "_model_module_version": "1.5.0",
      "_model_name": "HBoxModel",
      "_view_count": null,
      "_view_module": "@jupyter-widgets/controls",
      "_view_module_version": "1.5.0",
      "_view_name": "HBoxView",
      "box_style": "",
      "children": [
       "IPY_MODEL_26d959ed6c9240c9b808da604715c935",
       "IPY_MODEL_05b16ebe565c41a5b4ade1ce5137030c",
       "IPY_MODEL_9fc0afbac61549cb9969b24807520b3a"
      ],
      "layout": "IPY_MODEL_e6086326282342b497e3b7159e779be7"
     }
    }
   }
  }
 },
 "nbformat": 4,
 "nbformat_minor": 1
}
